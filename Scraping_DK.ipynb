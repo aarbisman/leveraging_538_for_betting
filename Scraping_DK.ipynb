{
 "cells": [
  {
   "cell_type": "code",
   "execution_count": 52,
   "metadata": {},
   "outputs": [],
   "source": [
    "import numpy as np\n",
    "import pandas as pd\n",
    "import requests\n",
    "from bs4 import BeautifulSoup\n",
    "import lxml.html as lh\n",
    "import re\n",
    "import datetime"
   ]
  },
  {
   "cell_type": "code",
   "execution_count": 42,
   "metadata": {},
   "outputs": [],
   "source": [
    "URL = \"https://sportsbook.draftkings.com/leagues/baseball/88670847?category=game-lines&subcategory=game\"\n",
    "page = requests.get(URL)\n",
    "\n",
    "soup = BeautifulSoup(page.content, \"html.parser\")"
   ]
  },
  {
   "cell_type": "code",
   "execution_count": null,
   "metadata": {},
   "outputs": [],
   "source": []
  },
  {
   "cell_type": "code",
   "execution_count": 107,
   "metadata": {},
   "outputs": [],
   "source": [
    "#Store the contents of the website under doc\n",
    "doc = lh.fromstring(page.content)\n",
    "\n",
    "#Parse data that are stored between <tr>..</tr> of HTML\n",
    "tr_elements = doc.xpath('//tr')\n",
    "\n",
    "rows = [row.text_content() for row in tr_elements]"
   ]
  },
  {
   "cell_type": "code",
   "execution_count": 108,
   "metadata": {},
   "outputs": [
    {
     "data": {
      "text/plain": [
       "'12:05AMHOU AstrosJake Odorizzi-1.5-125O\\xa09-110-200'"
      ]
     },
     "execution_count": 108,
     "metadata": {},
     "output_type": "execute_result"
    }
   ],
   "source": [
    "rows[18]"
   ]
  },
  {
   "cell_type": "code",
   "execution_count": 109,
   "metadata": {},
   "outputs": [
    {
     "data": {
      "text/plain": [
       "17"
      ]
     },
     "execution_count": 109,
     "metadata": {},
     "output_type": "execute_result"
    }
   ],
   "source": [
    "today_index = rows.index('Today RUN LINETOTALMONEYLINE')\n",
    "tomorrow_index = rows.index('Tomorrow RUN LINETOTALMONEYLINE')\n",
    "\n",
    "tomorrow_index"
   ]
  },
  {
   "cell_type": "code",
   "execution_count": 110,
   "metadata": {},
   "outputs": [],
   "source": [
    "def time_adj(time_str, timedelta):\n",
    "    \n",
    "    time = datetime.datetime.strptime(time_str, '%I:%M%p').time()\n",
    "    \n",
    "    start = datetime.datetime(\n",
    "        2000, 1, 1,\n",
    "        hour=time.hour, minute=time.minute, second=time.second)\n",
    "    end = start + timedelta\n",
    "    \n",
    "    return_time = end.time().strftime('%I:%M%p')\n",
    "    return return_time"
   ]
  },
  {
   "cell_type": "code",
   "execution_count": 170,
   "metadata": {},
   "outputs": [
    {
     "data": {
      "text/plain": [
       "58"
      ]
     },
     "execution_count": 170,
     "metadata": {},
     "output_type": "execute_result"
    }
   ],
   "source": [
    "## Using regular expressions, we find the draft kings header for 2 days from now\n",
    "\n",
    "exp = \"[A-Z]{3}\\ [A-Z]{3}\\ \"\n",
    "r = re.compile(exp)\n",
    "\n",
    "final_divider = rows.index(list(filter(r.match, rows))[0])\n",
    "\n",
    "final_divider"
   ]
  },
  {
   "cell_type": "code",
   "execution_count": 189,
   "metadata": {},
   "outputs": [],
   "source": [
    "test_rows = rows.copy()\n",
    "test_rows.remove(\"Tomorrow RUN LINETOTALMONEYLINE\")\n",
    "\n",
    "rows_for_today = []\n",
    "\n",
    "max_time = datetime.datetime.strptime(\"20/01/2020\" ,\"%d/%m/%Y\").time()\n",
    "\n",
    "for row in test_rows[1:57]:\n",
    "        \n",
    "    time_stamp = re.search(\"[0-9]{1,2}\\:[0-9]{1,2}[A-Z]{2}\", row).group()\n",
    "    time_stamp_adj = time_adj(time_stamp, datetime.timedelta(hours = -4))\n",
    "    time = datetime.datetime.strptime(time_stamp_adj, '%I:%M%p').time()\n",
    "    \n",
    "    if time >= max_time:\n",
    "        \n",
    "        max_time = time\n",
    "        \n",
    "        rows_for_today.append(row)\n",
    "        \n",
    "    else:\n",
    "        break\n"
   ]
  },
  {
   "cell_type": "code",
   "execution_count": 190,
   "metadata": {},
   "outputs": [
    {
     "data": {
      "text/plain": [
       "['11:05PMTB RaysShane McClanahan-1.5-155O\\xa010-115-240',\n",
       " '11:05PMBAL OriolesMatt Harvey+1.5+135U\\xa010-105+195',\n",
       " '11:05PMARI DiamondbacksTaylor Widener+1.5+105O\\xa09+100+210',\n",
       " '11:05PMPHI PhilliesAaron Nola-1.5-125U\\xa09-120-260',\n",
       " '11:05PMSTL CardinalsJ.A. Happ-1.5+105O\\xa09+100-155',\n",
       " '11:05PMPIT PiratesDillon Peters+1.5-125U\\xa09-120+135',\n",
       " '11:10PMCIN RedsWade Miley-1.5+115O\\xa08-110-140',\n",
       " '11:10PMMIA MarlinsZach Thompson+1.5-135U\\xa08-110+120',\n",
       " '11:10PMTOR Blue JaysSteven Matz-1.5-115O\\xa09.5-115-165',\n",
       " '11:10PMDET TigersMatt Manning+1.5-105U\\xa09.5-105+145',\n",
       " '11:10PMBOS Red SoxEduardo Rodríguez-1.5-130O\\xa010-110-195',\n",
       " '11:10PMCLE IndiansLogan Allen+1.5+110U\\xa010-110+165',\n",
       " '11:10PMWAS NationalsPaolo Espino+1.5-120O\\xa09+100+170',\n",
       " '11:10PMNY MetsRich Hill-1.5+100U\\xa09-120-200',\n",
       " '11:20PMSF GiantsKevin Gausman+1.5-180O\\xa08.5-110+115',\n",
       " '11:20PMATL BravesMax Fried-1.5+155U\\xa08.5-110-135',\n",
       " '12:05AMHOU AstrosJake Odorizzi-1.5-125O\\xa09-110-200',\n",
       " '12:05AMTEX RangersGlenn Otto+1.5+105U\\xa09-110+170',\n",
       " '12:10AMCHI CubsKeegan Thompson+1.5-105O\\xa09.5-105+180',\n",
       " '12:10AMCHI White SoxDallas Keuchel-1.5-115U\\xa09.5-115-220',\n",
       " '12:10AMMIL BrewersEric Lauer-1.5+115O\\xa09.5-110-135',\n",
       " '12:10AMMIN TwinsAndrew Albers+1.5-135U\\xa09.5-110+115',\n",
       " '1:38AMSD PadresJoe Musgrove-1.5-130O\\xa09-105-210',\n",
       " '1:38AMLA Angels+1.5+110U\\xa09-115+175',\n",
       " '1:40AMNY YankeesGerrit Cole-1.5+100O\\xa08-110-160',\n",
       " '1:40AMOAK AthleticsSean Manaea+1.5-120U\\xa08-110+140',\n",
       " '2:10AMCOL RockiesKyle Freeland+1.5-105O\\xa08.5-115+190',\n",
       " '2:10AMLA Dodgers-1.5-115U\\xa08.5-105-235',\n",
       " '2:10AMKC RoyalsKris Bubic+1.5-130O\\xa08-110+155',\n",
       " '2:10AMSEA MarinersLogan Gilbert-1.5+110U\\xa08-110-180']"
      ]
     },
     "execution_count": 190,
     "metadata": {},
     "output_type": "execute_result"
    }
   ],
   "source": [
    "rows_for_today"
   ]
  },
  {
   "cell_type": "code",
   "execution_count": 248,
   "metadata": {},
   "outputs": [
    {
     "data": {
      "text/html": [
       "<div>\n",
       "<style scoped>\n",
       "    .dataframe tbody tr th:only-of-type {\n",
       "        vertical-align: middle;\n",
       "    }\n",
       "\n",
       "    .dataframe tbody tr th {\n",
       "        vertical-align: top;\n",
       "    }\n",
       "\n",
       "    .dataframe thead th {\n",
       "        text-align: right;\n",
       "    }\n",
       "</style>\n",
       "<table border=\"1\" class=\"dataframe\">\n",
       "  <thead>\n",
       "    <tr style=\"text-align: right;\">\n",
       "      <th></th>\n",
       "      <th>Date</th>\n",
       "      <th>away_team</th>\n",
       "      <th>home_team</th>\n",
       "      <th>away_team_moneyline</th>\n",
       "      <th>home_team_moneyline</th>\n",
       "    </tr>\n",
       "  </thead>\n",
       "  <tbody>\n",
       "    <tr>\n",
       "      <th>0</th>\n",
       "      <td>08/27</td>\n",
       "      <td>Rays</td>\n",
       "      <td>Orioles</td>\n",
       "      <td>-240</td>\n",
       "      <td>+195</td>\n",
       "    </tr>\n",
       "    <tr>\n",
       "      <th>1</th>\n",
       "      <td>08/27</td>\n",
       "      <td>Diamondbacks</td>\n",
       "      <td>Phillies</td>\n",
       "      <td>+210</td>\n",
       "      <td>-260</td>\n",
       "    </tr>\n",
       "    <tr>\n",
       "      <th>2</th>\n",
       "      <td>08/27</td>\n",
       "      <td>Cardinals</td>\n",
       "      <td>Pirates</td>\n",
       "      <td>-155</td>\n",
       "      <td>+135</td>\n",
       "    </tr>\n",
       "    <tr>\n",
       "      <th>3</th>\n",
       "      <td>08/27</td>\n",
       "      <td>Reds</td>\n",
       "      <td>Marlins</td>\n",
       "      <td>-140</td>\n",
       "      <td>+120</td>\n",
       "    </tr>\n",
       "    <tr>\n",
       "      <th>4</th>\n",
       "      <td>08/27</td>\n",
       "      <td>Blue Jays</td>\n",
       "      <td>Tigers</td>\n",
       "      <td>-165</td>\n",
       "      <td>+145</td>\n",
       "    </tr>\n",
       "  </tbody>\n",
       "</table>\n",
       "</div>"
      ],
      "text/plain": [
       "    Date     away_team home_team away_team_moneyline home_team_moneyline\n",
       "0  08/27          Rays   Orioles                -240                +195\n",
       "1  08/27  Diamondbacks  Phillies                +210                -260\n",
       "2  08/27     Cardinals   Pirates                -155                +135\n",
       "3  08/27          Reds   Marlins                -140                +120\n",
       "4  08/27     Blue Jays    Tigers                -165                +145"
      ]
     },
     "execution_count": 248,
     "metadata": {},
     "output_type": "execute_result"
    }
   ],
   "source": [
    "game_moneylines = []\n",
    "\n",
    "for i in range(0,len(rows_for_today),2):\n",
    "    \n",
    "    away_team_row = rows_for_today[i]\n",
    "    home_team_row = rows_for_today[i + 1] \n",
    "    \n",
    "    ## We get todays date\n",
    "    date = datetime.datetime.today().strftime('%m/%d')\n",
    "    \n",
    "    ## This regex method is a little clunky, but it works with one word and two word teams given Draft kings formatting\n",
    "    ## We get the away teams name\n",
    "    away_team_list = re.findall(\" [A-Z][a-z]+\", away_team_row)\n",
    "    del(away_team_list[-1])\n",
    "    away_team = ''.join(away_team_list)[1:]\n",
    "    \n",
    "    ## and the home tams name\n",
    "    home_team_list = re.findall(\" [A-Z][a-z]+\", home_team_row)\n",
    "    del(home_team_list[-1])\n",
    "    home_team = ''.join(home_team_list)[1:]\n",
    "    \n",
    "    ## We get the away teams moneyline\n",
    "    away_team_moneyline = re.findall(\"((\\+|\\-)[0-9]+)\", away_team_row)[-1][0]\n",
    "    \n",
    "    ## We get the home teams moneyline\n",
    "    home_team_moneyline = re.findall(\"((\\+|\\-)[0-9]+)\", home_team_row)[-1][0]\n",
    "    \n",
    "    moneyline_row = [date, away_team, home_team, away_team_moneyline, home_team_moneyline]\n",
    "    \n",
    "\n",
    "    game_moneylines.append(moneyline_row)\n",
    "\n",
    "game_moneylines_df = pd.DataFrame(game_moneylines, columns=['Date', 'away_team', 'home_team','away_team_moneyline','home_team_moneyline'])\n",
    "\n",
    "game_moneylines_df.head()"
   ]
  },
  {
   "cell_type": "code",
   "execution_count": 249,
   "metadata": {},
   "outputs": [],
   "source": [
    "game_moneylines_df.to_csv(\"dk_scrape_output.csv\", index=False)"
   ]
  }
 ],
 "metadata": {
  "kernelspec": {
   "display_name": "Python 3",
   "language": "python",
   "name": "python3"
  },
  "language_info": {
   "codemirror_mode": {
    "name": "ipython",
    "version": 3
   },
   "file_extension": ".py",
   "mimetype": "text/x-python",
   "name": "python",
   "nbconvert_exporter": "python",
   "pygments_lexer": "ipython3",
   "version": "3.8.5"
  }
 },
 "nbformat": 4,
 "nbformat_minor": 4
}
