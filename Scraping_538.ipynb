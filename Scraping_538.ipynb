{
 "cells": [
  {
   "cell_type": "code",
   "execution_count": 5,
   "metadata": {},
   "outputs": [],
   "source": [
    "import numpy as np\n",
    "import pandas as pd\n",
    "import requests\n",
    "from bs4 import BeautifulSoup\n",
    "import lxml.html as lh\n",
    "\n"
   ]
  },
  {
   "cell_type": "code",
   "execution_count": 6,
   "metadata": {},
   "outputs": [],
   "source": [
    "URL = \"https://projects.fivethirtyeight.com/2021-mlb-predictions/games/\"\n",
    "page = requests.get(URL)\n",
    "\n",
    "soup = BeautifulSoup(page.content, \"html.parser\")"
   ]
  },
  {
   "cell_type": "code",
   "execution_count": 7,
   "metadata": {},
   "outputs": [
    {
     "data": {
      "text/plain": [
       "[9, 9, 8, 9, 8, 9, 8, 9, 8, 9, 8]"
      ]
     },
     "execution_count": 7,
     "metadata": {},
     "output_type": "execute_result"
    }
   ],
   "source": [
    "#Store the contents of the website under doc\n",
    "doc = lh.fromstring(page.content)\n",
    "\n",
    "#Parse data that are stored between <tr>..</tr> of HTML\n",
    "tr_elements = doc.xpath('//tr')\n",
    "\n",
    "[len(T) for T in tr_elements[:11]]\n"
   ]
  },
  {
   "cell_type": "code",
   "execution_count": 8,
   "metadata": {},
   "outputs": [
    {
     "data": {
      "text/plain": [
       "402"
      ]
     },
     "execution_count": 8,
     "metadata": {},
     "output_type": "execute_result"
    }
   ],
   "source": [
    "len(tr_elements)"
   ]
  },
  {
   "cell_type": "code",
   "execution_count": 9,
   "metadata": {},
   "outputs": [
    {
     "data": {
      "text/plain": [
       "[0, 201]"
      ]
     },
     "execution_count": 9,
     "metadata": {},
     "output_type": "execute_result"
    }
   ],
   "source": [
    "upcoming_list_done = False\n",
    "future_list_done = False\n",
    "\n",
    "rows = [row.text_content() for row in tr_elements]\n",
    "\n",
    "header_str = \"DateTeamStarting pitcherTeam ratingStarting pitcher adj.Travel, rest & home field adj.Pregame team ratingWin prob.Chance of winningScore\"\n",
    "\n",
    "rows.index(header_str)\n",
    "\n",
    "indexes = [i for i,row in enumerate(rows) if row == header_str]\n",
    "\n",
    "## This gives us the two header strings, telling us that row 0 is a header\n",
    "## and 1-200 are the body rows for the first table\n",
    "## 201 is a header, and 202-end are the body rows for the 2nd table\n",
    "indexes"
   ]
  },
  {
   "cell_type": "markdown",
   "metadata": {},
   "source": [
    "#### Now that we have the structure of the two tables, we can start segmenting them and getting actual prediction data"
   ]
  },
  {
   "cell_type": "code",
   "execution_count": 12,
   "metadata": {},
   "outputs": [],
   "source": [
    "upcoming_games_header = rows[0]\n",
    "upcoming_games_rows = rows[1:201]\n",
    "\n",
    "previous_games_header = rows[201]\n",
    "previous_games_rows = rows[201:]"
   ]
  },
  {
   "cell_type": "code",
   "execution_count": 62,
   "metadata": {},
   "outputs": [
    {
     "data": {
      "text/html": [
       "<div>\n",
       "<style scoped>\n",
       "    .dataframe tbody tr th:only-of-type {\n",
       "        vertical-align: middle;\n",
       "    }\n",
       "\n",
       "    .dataframe tbody tr th {\n",
       "        vertical-align: top;\n",
       "    }\n",
       "\n",
       "    .dataframe thead th {\n",
       "        text-align: right;\n",
       "    }\n",
       "</style>\n",
       "<table border=\"1\" class=\"dataframe\">\n",
       "  <thead>\n",
       "    <tr style=\"text-align: right;\">\n",
       "      <th></th>\n",
       "      <th>Date</th>\n",
       "      <th>away_team</th>\n",
       "      <th>home_team</th>\n",
       "      <th>away_pct_538</th>\n",
       "      <th>home_pct_538</th>\n",
       "    </tr>\n",
       "  </thead>\n",
       "  <tbody>\n",
       "    <tr>\n",
       "      <th>0</th>\n",
       "      <td>8/27</td>\n",
       "      <td>TBR</td>\n",
       "      <td>BAL</td>\n",
       "      <td>69%</td>\n",
       "      <td>31%</td>\n",
       "    </tr>\n",
       "    <tr>\n",
       "      <th>1</th>\n",
       "      <td>8/27</td>\n",
       "      <td>ARI</td>\n",
       "      <td>PHI</td>\n",
       "      <td>37%</td>\n",
       "      <td>63%</td>\n",
       "    </tr>\n",
       "    <tr>\n",
       "      <th>2</th>\n",
       "      <td>8/27</td>\n",
       "      <td>STL</td>\n",
       "      <td>PIT</td>\n",
       "      <td>56%</td>\n",
       "      <td>44%</td>\n",
       "    </tr>\n",
       "    <tr>\n",
       "      <th>3</th>\n",
       "      <td>8/27</td>\n",
       "      <td>BOS</td>\n",
       "      <td>CLE</td>\n",
       "      <td>57%</td>\n",
       "      <td>43%</td>\n",
       "    </tr>\n",
       "    <tr>\n",
       "      <th>4</th>\n",
       "      <td>8/27</td>\n",
       "      <td>TOR</td>\n",
       "      <td>DET</td>\n",
       "      <td>56%</td>\n",
       "      <td>44%</td>\n",
       "    </tr>\n",
       "  </tbody>\n",
       "</table>\n",
       "</div>"
      ],
      "text/plain": [
       "   Date away_team home_team away_pct_538 home_pct_538\n",
       "0  8/27       TBR       BAL          69%          31%\n",
       "1  8/27       ARI       PHI          37%          63%\n",
       "2  8/27       STL       PIT          56%          44%\n",
       "3  8/27       BOS       CLE          57%          43%\n",
       "4  8/27       TOR       DET          56%          44%"
      ]
     },
     "execution_count": 62,
     "metadata": {},
     "output_type": "execute_result"
    }
   ],
   "source": [
    "game_predictions = []\n",
    "\n",
    "for i in range(0,len(upcoming_games_rows),2):\n",
    "    \n",
    "    row_w_game_info = upcoming_games_rows[i]\n",
    "    row_w_team_only = upcoming_games_rows[i + 1]\n",
    "        \n",
    "    date = re.search(\"[0-9]{1,2}\\/[0-9]{1,2}\", row_w_game_info).group()\n",
    "    away_team = re.search(\"[A-Z]{3}\", row_w_game_info).group()\n",
    "    home_team = re.search(\"[A-Z]{3}\", row_w_team_only).group()\n",
    "    \n",
    "    ## So far, there are no instances of single-digit percentage predictions from 538, but I'll  \n",
    "    away_pct_538_str = re.search(\"[0-9]{5,6}%\", row_w_game_info).group()\n",
    "    if len(away_pct_538_str) == 7:\n",
    "        away_pct_538 = away_pct_538_str[-3:]\n",
    "    elif len(away_pct_538_str) == 6:\n",
    "        away_pct_538 = away_pct_538_str[-2:]  \n",
    "        \n",
    "    home_pct_538_str = re.search(\"[0-9]{5,6}%\", row_w_team_only).group()\n",
    "    if len(home_pct_538_str) == 7:\n",
    "        home_pct_538 = home_pct_538_str[-3:]\n",
    "    elif len(home_pct_538_str) == 6:\n",
    "        home_pct_538 = home_pct_538_str[-2:]\n",
    "\n",
    "        \n",
    "    prediction_row = [date,away_team,home_team,away_pct_538,home_pct_538]\n",
    "    \n",
    "    game_predictions.append(prediction_row)\n",
    "    \n",
    "game_predictions_df = pd.DataFrame(game_predictions, columns=['Date', 'away_team', 'home_team','away_pct_538','home_pct_538'])\n",
    "\n",
    "game_predictions_df.head()"
   ]
  },
  {
   "cell_type": "code",
   "execution_count": 66,
   "metadata": {},
   "outputs": [],
   "source": [
    "game_predictions_df.to_csv(\"538_scrape_output.csv\", index=False)"
   ]
  },
  {
   "cell_type": "code",
   "execution_count": null,
   "metadata": {},
   "outputs": [],
   "source": []
  },
  {
   "cell_type": "code",
   "execution_count": null,
   "metadata": {},
   "outputs": [],
   "source": []
  }
 ],
 "metadata": {
  "kernelspec": {
   "display_name": "Python 3",
   "language": "python",
   "name": "python3"
  },
  "language_info": {
   "codemirror_mode": {
    "name": "ipython",
    "version": 3
   },
   "file_extension": ".py",
   "mimetype": "text/x-python",
   "name": "python",
   "nbconvert_exporter": "python",
   "pygments_lexer": "ipython3",
   "version": "3.8.5"
  }
 },
 "nbformat": 4,
 "nbformat_minor": 4
}
