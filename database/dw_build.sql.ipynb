{
 "cells": [
  {
   "cell_type": "code",
   "execution_count": 34,
   "metadata": {},
   "outputs": [],
   "source": [
    "import sqlite3\n",
    "from sqlite3 import Error\n",
    "import pandas as pd\n",
    "\n",
    "\n",
    "def dw_build():\n",
    "    \n",
    "    data_warehouse = r\"C:\\Users\\arbis\\Projects\\nate_silver_gets_me_money\\dk_538_games_dw.db\" \n",
    "    \n",
    "    conn = None\n",
    "    try:\n",
    "        conn = sqlite3.connect(data_warehouse)\n",
    "    except Error as e:\n",
    "        print(e)\n",
    "    \n",
    "#     conn = create_connection(database)\n",
    "\n",
    "    sql_drop_dw = \"\"\" DROP TABLE IF EXISTS game_dw;\"\"\"\n",
    "\n",
    "    sql_create_dw_query = \"\"\" CREATE TABLE IF NOT EXISTS game_dw(\n",
    "                                        game_date text,\n",
    "                                        away_team text,\n",
    "                                        home_team text,\n",
    "                                        away_pct_538 float NOT NULL,\n",
    "                                        home_pct_538 float NOT NULL,\n",
    "                                        away_moneyline_dk int NOT NULL,\n",
    "                                        home_moneyline_dk int NOT NULL,\n",
    "                                        PRIMARY KEY (game_date, away_team, home_team)                                      \n",
    "                                    ); \"\"\"   \n",
    "    if conn is not None:\n",
    "        \n",
    "        ## Drop the tables\n",
    "        try:\n",
    "            c = conn.cursor()\n",
    "            c.execute(sql_drop_dw)            \n",
    "        except Error as e:\n",
    "            print(e)\n",
    "            \n",
    "        try:\n",
    "            c = conn.cursor()\n",
    "            c.execute(sql_create_dw_query)            \n",
    "        except Error as e:\n",
    "            print(e)        \n",
    "\n",
    "    else:\n",
    "        print(\"Error! cannot create the database connection.\")\n",
    "\n",
    "    c.close()                         \n",
    "    conn.close()"
   ]
  },
  {
   "cell_type": "code",
   "execution_count": 35,
   "metadata": {},
   "outputs": [],
   "source": [
    "dw_build()"
   ]
  },
  {
   "cell_type": "markdown",
   "metadata": {},
   "source": [
    "### Testing that our datawarehouse was built properly"
   ]
  },
  {
   "cell_type": "code",
   "execution_count": 36,
   "metadata": {},
   "outputs": [
    {
     "name": "stdout",
     "output_type": "stream",
     "text": [
      "(0, 'game_date', 'text', 0, None, 1)\n",
      "(1, 'away_team', 'text', 0, None, 2)\n",
      "(2, 'home_team', 'text', 0, None, 3)\n",
      "(3, 'away_pct_538', 'float', 1, None, 0)\n",
      "(4, 'home_pct_538', 'float', 1, None, 0)\n",
      "(5, 'away_moneyline_dk', 'int', 1, None, 0)\n",
      "(6, 'home_moneyline_dk', 'int', 1, None, 0)\n"
     ]
    }
   ],
   "source": [
    "data_warehouse = r\"C:\\Users\\arbis\\Projects\\nate_silver_gets_me_money\\dk_538_games_dw.db\" \n",
    "con = sqlite3. connect(data_warehouse)\n",
    "c = con.cursor()\n",
    "c.execute('PRAGMA table_info( game_dw );')\n",
    "fields = c.fetchall()\n",
    "for field in fields:\n",
    "    print(field)\n",
    "\n",
    "#row = c.fetchone()\n",
    "#print(row)\n",
    "c.close()"
   ]
  }
 ],
 "metadata": {
  "kernelspec": {
   "display_name": "Python 3",
   "language": "python",
   "name": "python3"
  },
  "language_info": {
   "codemirror_mode": {
    "name": "ipython",
    "version": 3
   },
   "file_extension": ".py",
   "mimetype": "text/x-python",
   "name": "python",
   "nbconvert_exporter": "python",
   "pygments_lexer": "ipython3",
   "version": "3.8.5"
  }
 },
 "nbformat": 4,
 "nbformat_minor": 4
}
